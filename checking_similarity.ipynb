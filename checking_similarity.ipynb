{
 "cells": [
  {
   "cell_type": "code",
   "execution_count": 6,
   "id": "906ef653",
   "metadata": {},
   "outputs": [],
   "source": [
    "import pandas as pd\n",
    "import numpy as np\n",
    "from openpyxl import load_workbook"
   ]
  },
  {
   "cell_type": "code",
   "execution_count": null,
   "id": "425f9684",
   "metadata": {},
   "outputs": [],
   "source": [
    "def jaro_distance(s1, s2):\n",
    "    if (s1 == s2):\n",
    "        return 1.0\n",
    "    len1 = len(s1)\n",
    "    len2 = len(s2)\n",
    "    max_dist = floor(max(len1, len2) / 2) - 1\n",
    "    match = 0\n",
    "    hash_s1 = [0] * len(s1)\n",
    "    hash_s2 = [0] * len(s2)\n",
    "    for i in range(len1):\n",
    "        for j in range(max(0, i - max_dist), min(len2, i + max_dist + 1)):\n",
    "            if (s1[i] == s2[j] and hash_s2[j] == 0):\n",
    "                hash_s1[i] = 1\n",
    "                hash_s2[j] = 1\n",
    "                match += 1\n",
    "                break\n",
    "    if (match == 0):\n",
    "        return 0.0\n",
    "    t = 0\n",
    "    point = 0\n",
    "    for i in range(len1):\n",
    "        if (hash_s1[i]):\n",
    "\n",
    "            while (hash_s2[point] == 0):\n",
    "                point += 1\n",
    "            if (s1[i] != s2[point]):\n",
    "                t += 1\n",
    "            point += 1\n",
    "    t = t // 2\n",
    "    return (match / len1 + match / len2 + (match - t) / match) / 3.0"
   ]
  },
  {
   "cell_type": "code",
   "execution_count": 7,
   "id": "4fa1814d",
   "metadata": {},
   "outputs": [
    {
     "ename": "SyntaxError",
     "evalue": "invalid syntax (105911508.py, line 2)",
     "output_type": "error",
     "traceback": [
      "\u001b[1;36m  Cell \u001b[1;32mIn[7], line 2\u001b[1;36m\u001b[0m\n\u001b[1;33m    file_main=\u001b[0m\n\u001b[1;37m              ^\u001b[0m\n\u001b[1;31mSyntaxError\u001b[0m\u001b[1;31m:\u001b[0m invalid syntax\n"
     ]
    }
   ],
   "source": [
    "if __name__ == \"__main__\":\n",
    "    file_main=r\n",
    "    file_tobechecked=r\n",
    "    a = pd.read_excel(file_main,header = 0)\n",
    "    b = pd.read_excel(file_tobechecked,header = 0)\n",
    "    similarity=[]\n",
    "    company=[]\n",
    "    banned_word = [\"Mrs\",\"Miss\",\"Mr\",\"Sir\",\"Madam\"]\n",
    "    for i in a.iloc[:,1]:\n",
    "        save = []\n",
    "        for j in b.iloc[:,1]:\n",
    "            tempory_1 =i.lower()\n",
    "            tempory_2 = j.lower()\n",
    "            for ban in ban_word:\n",
    "                tempory_1= tempory_1.replace(ban,\"\")\n",
    "                tempory_2= tempory_2.replace(ban,\"\")\n",
    "            save.append(jaro_distance(i.lower(), j.lower()))\n",
    "        company.append(dataset.iloc[save.index(np.max(save))].loc[\"Name\"])\n",
    "        similarity.append(np.max(save))\n",
    "    a[\"Company\"] = company\n",
    "    a[\"Similarity\"] = similarity\n",
    "    wb=load_workbook(file_main)\n",
    "    ws=wb[wb.sheetnames[0]]\n",
    "    for i in range(len(a[\"Company\"])):\n",
    "        ws[\"B\"+str(2+i)] = a.iloc[i].loc[\"Company\"]\n",
    "        ws[\"C\"+str(2+i)].value = a.iloc[i].loc[\"similarity\"]\n",
    "        ws[\"C\"+str(2+i)].number_format = \"0.00%\"\n",
    "    file_saveto = file_main\n",
    "    wb.save(file_main)\n",
    "    \n",
    "    \n",
    "    "
   ]
  },
  {
   "cell_type": "code",
   "execution_count": null,
   "id": "9b09e5c3",
   "metadata": {},
   "outputs": [],
   "source": []
  }
 ],
 "metadata": {
  "kernelspec": {
   "display_name": "Python 3 (ipykernel)",
   "language": "python",
   "name": "python3"
  },
  "language_info": {
   "codemirror_mode": {
    "name": "ipython",
    "version": 3
   },
   "file_extension": ".py",
   "mimetype": "text/x-python",
   "name": "python",
   "nbconvert_exporter": "python",
   "pygments_lexer": "ipython3",
   "version": "3.11.3"
  },
  "toc": {
   "base_numbering": 1,
   "nav_menu": {},
   "number_sections": true,
   "sideBar": true,
   "skip_h1_title": false,
   "title_cell": "Table of Contents",
   "title_sidebar": "Contents",
   "toc_cell": false,
   "toc_position": {},
   "toc_section_display": true,
   "toc_window_display": false
  }
 },
 "nbformat": 4,
 "nbformat_minor": 5
}
